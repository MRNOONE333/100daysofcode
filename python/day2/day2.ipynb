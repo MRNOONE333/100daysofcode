{
 "cells": [
  {
   "cell_type": "markdown",
   "metadata": {},
   "source": [
    "## Booleans"
   ]
  },
  {
   "cell_type": "code",
   "execution_count": null,
   "metadata": {},
   "outputs": [
    {
     "name": "stdout",
     "output_type": "stream",
     "text": [
      "False\n",
      "True\n"
     ]
    }
   ],
   "source": [
    "a=10\n",
    "b=20\n",
    "c1= a>b\n",
    "c2= a<b\n",
    "r1= c1 and c2\n",
    "r2 = c1 or c2\n",
    "print(r1)\n",
    "print(r2)"
   ]
  },
  {
   "cell_type": "code",
   "execution_count": null,
   "metadata": {},
   "outputs": [
    {
     "name": "stdout",
     "output_type": "stream",
     "text": [
      "even number\n"
     ]
    }
   ],
   "source": [
    "# IF ELSE\n",
    "is_even = True\n",
    "if is_even :\n",
    "    print('even number')\n",
    "else:\n",
    "    print('odd  number')"
   ]
  },
  {
   "cell_type": "code",
   "execution_count": null,
   "metadata": {},
   "outputs": [
    {
     "name": "stdout",
     "output_type": "stream",
     "text": [
      "4\n",
      "even number\n"
     ]
    }
   ],
   "source": [
    "n = int(input())\n",
    "r = n%2\n",
    "is_even = (r==0)\n",
    "if is_even :\n",
    "    print('even number')\n",
    "else:\n",
    "    print('odd  number')"
   ]
  },
  {
   "cell_type": "code",
   "execution_count": null,
   "metadata": {},
   "outputs": [],
   "source": [
    "print('give integer input')\n",
    "n=int(input())\n",
    "if n%2==0:\n",
    "    print('even')\n",
    "else:\n",
    "    print ('odd')"
   ]
  },
  {
   "cell_type": "code",
   "execution_count": null,
   "metadata": {},
   "outputs": [],
   "source": [
    "n = int(input())\n",
    "if n%2 == 0 :\n",
    "    print('even number')\n",
    "else:\n",
    "    print('odd  number')\n"
   ]
  },
  {
   "cell_type": "code",
   "execution_count": null,
   "metadata": {},
   "outputs": [],
   "source": [
    "x=5\n",
    "if x<6:\n",
    "    print('hiii')\n",
    "if x==5 :\n",
    "    print('yey')\n",
    "else:\n",
    "    print('nothing')"
   ]
  },
  {
   "cell_type": "code",
   "execution_count": null,
   "metadata": {},
   "outputs": [],
   "source": [
    "a= int(input())\n",
    "b= int(input())\n",
    "if a > 10 and b> 10 :\n",
    "    print('both r greater then 10')\n",
    "else:\n",
    "    print('both are\\'nt')"
   ]
  },
  {
   "cell_type": "code",
   "execution_count": null,
   "metadata": {},
   "outputs": [],
   "source": [
    "# ques9 without constarain\n",
    "\n",
    "n=int(input())\n",
    "\n",
    "if n<0:\n",
    "    print('negative')\n",
    "elif n>0:\n",
    "    print('positive')\n",
    "else:\n",
    "    print('zero')"
   ]
  },
  {
   "cell_type": "code",
   "execution_count": null,
   "metadata": {},
   "outputs": [],
   "source": [
    "# ques9 with constrain\n",
    "n = int(input())\n",
    "if -100 <= n <= 100:\n",
    "    if n < 0:\n",
    "        print('negative')\n",
    "    elif n > 0:\n",
    "        print('positive')\n",
    "    else:\n",
    "        print('zero')\n",
    "else:\n",
    "    print('Invalid input. n should be between 1 and 100 (inclusive).')"
   ]
  },
  {
   "cell_type": "code",
   "execution_count": null,
   "metadata": {},
   "outputs": [],
   "source": [
    "a = int(input())\n",
    "b = int(input())\n",
    "if 1<=a<=10**10 and 1<=b<=10**10 : \n",
    "    print(a+b)\n",
    "    print(a-b)\n",
    "    print(a*b)\n",
    "    "
   ]
  },
  {
   "cell_type": "code",
   "execution_count": null,
   "metadata": {},
   "outputs": [],
   "source": [
    "n= int(input())\n",
    "m= int(input())\n",
    "\n",
    "if n%2==0:\n",
    "    if m%2==0:\n",
    "        print('m is even')\n",
    "    else:\n",
    "        print('m is odd')\n",
    "else:\n",
    "    print('n is  odd')"
   ]
  },
  {
   "cell_type": "code",
   "execution_count": null,
   "metadata": {},
   "outputs": [],
   "source": [
    "# elif....  "
   ]
  },
  {
   "cell_type": "code",
   "execution_count": null,
   "metadata": {},
   "outputs": [
    {
     "name": "stdout",
     "output_type": "stream",
     "text": [
      "1\n",
      "7\n",
      "none even\n"
     ]
    }
   ],
   "source": [
    "n= int(input())\n",
    "m= int(input())\n",
    "\n",
    "if n%2==0:\n",
    "    if m%2==0:\n",
    "        print('both even')\n",
    "    else:\n",
    "        print('only first even')\n",
    "elif m%2==0:\n",
    "        print('only second even')\n",
    "else:\n",
    "    print('none even')\n",
    "# printed only for m, n ki condition met ho gai thi."
   ]
  },
  {
   "cell_type": "markdown",
   "metadata": {},
   "source": [
    "## while loop"
   ]
  },
  {
   "cell_type": "code",
   "execution_count": null,
   "metadata": {},
   "outputs": [],
   "source": [
    "n= int(input())\n",
    "count =1\n",
    "while count<=n:\n",
    "    print(count)\n",
    "# infine run "
   ]
  },
  {
   "cell_type": "code",
   "execution_count": null,
   "metadata": {},
   "outputs": [],
   "source": [
    "n= int(input())\n",
    "count =1\n",
    "while count<=n:\n",
    "    print(count)\n",
    "    count=count+1"
   ]
  },
  {
   "cell_type": "code",
   "execution_count": null,
   "metadata": {},
   "outputs": [
    {
     "name": "stdout",
     "output_type": "stream",
     "text": [
      "5\n",
      "prime\n"
     ]
    }
   ],
   "source": [
    "n = int(input())\n",
    "m = n - 1\n",
    "\n",
    "while m > 1:\n",
    "    if n % m == 0:\n",
    "        print('not prime')\n",
    "    m = m - 1\n",
    "else:\n",
    "    print('prime')\n"
   ]
  },
  {
   "cell_type": "markdown",
   "metadata": {},
   "source": [
    "## Doubt "
   ]
  },
  {
   "cell_type": "code",
   "execution_count": null,
   "metadata": {},
   "outputs": [
    {
     "name": "stdout",
     "output_type": "stream",
     "text": [
      "9\n",
      "not prime\n"
     ]
    }
   ],
   "source": [
    "n= int(input())\n",
    "d=2\n",
    "flag = False\n",
    "while d<n :\n",
    "    if n%d==0:\n",
    "        flag = True\n",
    "        break\n",
    "    d=d+1\n",
    "     \n",
    "    \n",
    "if flag:\n",
    "    print('not prime')\n",
    "else:\n",
    "    print ('prime')"
   ]
  },
  {
   "cell_type": "code",
   "execution_count": null,
   "metadata": {},
   "outputs": [],
   "source": [
    "n = int(input())\n",
    "d = 2\n",
    "flag = False\n",
    "\n",
    "while d < n:\n",
    "    if n % d == 0:\n",
    "        flag = True\n",
    "        break  # Add a break here to exit the loop if a divisor is found\n",
    "    d = d + 1\n",
    "    \n",
    "if flag:\n",
    "    print('not prime')\n",
    "else:\n",
    "    print('prime')\n"
   ]
  }
 ],
 "metadata": {
  "language_info": {
   "name": "python"
  }
 },
 "nbformat": 4,
 "nbformat_minor": 2
}
